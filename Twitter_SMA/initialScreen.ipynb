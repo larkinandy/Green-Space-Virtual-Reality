{
 "cells": [
  {
   "cell_type": "markdown",
   "metadata": {},
   "source": [
    "**InitialScreen.py**\n",
    "Author: Andrew Larkin\n",
    "Created for Social Media Analytics\n",
    "December 5, 2017\n",
    "\n",
    "Load twitter data from csv, screen based on exclusion criteria and export screened records to csv"
   ]
  },
  {
   "cell_type": "code",
   "execution_count": null,
   "metadata": {
    "collapsed": true
   },
   "outputs": [],
   "source": [
    "import pandas as ps\n",
    "rawData = ps.read_csv(\"H:/dumpedCSVs/PyResults1_12_1_17.csv\",memory_map=True)"
   ]
  },
  {
   "cell_type": "code",
   "execution_count": null,
   "metadata": {
    "collapsed": true
   },
   "outputs": [],
   "source": [
    "uniqueLocs = rawData.user_location.unique()\n",
    "rawData2 = rawData[rawData['user_location'].isnull()==False] # remove records that don't have a location"
   ]
  },
  {
   "cell_type": "code",
   "execution_count": null,
   "metadata": {
    "collapsed": true
   },
   "outputs": [],
   "source": [
    "# reduce dataset to records in the Portland metropolitan area\n",
    "selectLocations = [\"Vancouver, WA\", \"Beaverton, OR\", \"Portland, OR\", \"Gresham, OR\", \"Hillsboro, OR\"] \n",
    "rawData3 = rawData2[rawData2['user_location'].str.contains('|'.join(selectLocations),case=False)]"
   ]
  },
  {
   "cell_type": "code",
   "execution_count": null,
   "metadata": {
    "collapsed": true
   },
   "outputs": [],
   "source": [
    "noRTs = rawData3[~rawData3['text'].str.contains('RT')] # remove retweets\n",
    "noRTs = noRTs[noRTs['text'].str.contains('|'.join(searchTerms),case=False)] \n",
    "ps.set_option('max_colwidth',200)\n",
    "\n",
    "exclusionTerms = ['Jurrasic Park', 'Riverdance', 'Yard House', 'cream of the crop', 'Rogers Park Music Swap',\n",
    "                  'Providence Park', 'paperflowers', 'Bush Garden', 'flower, edible or concentrate', 'Yard Worker',\n",
    "                  'Flower Oragami','Coal Plant', 'lumber yard','crop top','leaves','Park Ave', 'cannabis',\n",
    "                  'artwork','Overland Park','Forest of Numbers','blue grass band',\n",
    "                  'Oswego', 'Osweego', 'Rivera','riverside','boxscore','in the field', 'Salt Lake City',\n",
    "                  'River Wave Foods','Oregon Trail','Linkin Park','Medicinal Plants','Rosa Parks','can park',\n",
    "                  'nature of','depth of field','River Rd','Trail of Tears',\n",
    "                  'Lady of the Lake','Phaedra Parks St','healing crystals','field goal','in my field','grass is always greener',\n",
    "                  'grass is greener','out to pasture','Garden of Eden','South Park Blocks','artprint',\n",
    "                  'Olive Garden','Pearl Lake Ancient','fuck the field','Suicide Forest','Hull Park','#NowPlaying',\n",
    "                  'Doc Rivers','track and field','Rose Garden','Perennial Garden','S Park Blocks','Teller Walnut Park',\n",
    "                  'just around the river bend',\n",
    "                  'Grand Teton','Great Bear Lake','Sunwampta','Wainanapanapa','Jasper','Marymoor','Crater Lake',\n",
    "                  'Hood River','herb','The Illuminated River','Chris Park','Cry me a river','YouTube','Central Park',\n",
    "                  'SW Park','Boeing Plant','trail of','Lake Tahoe','Storm the field','plant-based','Piknik Park Food',\n",
    "                  'Great Salt Lake','Balboa Park','Field Sales','trailblazer','Smart Park Garage','SaltLake','out of the park',\n",
    "                  'Great Lakes','Parks &amp; Rec','river boat gamble','Sex Park','bottom of a lake','Disney','campaign trail',\n",
    "                  'lake of fire','Garden Metal Detector','Garden Fresh Salad','River Road','Sequoia National',\n",
    "                  'Spencer Creek Business Park','Sunriver','critical nature','Bonney Lake','Field Instructor','Copper River',\n",
    "                  'Disney','River Pkwy','smoke a tree','Oak Park','Oaks Park','Swan Lake','Garrington Garden','Field of Service'\n",
    "                  ,'field of','Freshkills Park','Forest Gump','of the field','parallel park','field testing','off the field',\n",
    "                  'target field','paper trail', 'Home &amp; Garden', 'Peter Stott Field','Oaks Amusement Park',\n",
    "                  'opium','hash','A Forest on the Mountaintop','driver','Yellowstone','pixelart','Fortune Garden','quarter'\n",
    "                  ,'halftime','inning','Glacier National Park','New Seasons University Park','Jurassic Park','ass is grass'\n",
    "                  ,'L.A. River','hash','Field Application','Plant Manager','Sen. Rivers','Power Plant','University Park'\n",
    "                  ,'plant of','Salt Lake','Hyde Park',\"Daimler's plant\",'Chemical plant','South Park','Arlong Park'\n",
    "                  ,'Spring River Park &amp; Zoo','Field Services','money trail','magnetic field','black forest','our nature'\n",
    "                  ,'in your field','Kaby Lake',\"Trail's End Saloon\",'snake in the grass','Ocean Park','trailer park'\n",
    "                  ,'plant pipe','of that nature','Rosea Lake','career field','collective nature','parking','pasture for'\n",
    "                  ,'Joan Rivers','reporters in the field','oil field','like a tree','like a river','Yard Jockey',\n",
    "                  'Snake River Valley','Ricki Lake','Wicker Park','field theory','Baldwin Park','field crew','field inspect'\n",
    "                  ,'Lake Colden','lake of burning sulfure','nulclear plant','river of','Baldands National Park'\n",
    "                  ,'Face Rock State Park','trails in the sky','Field Nurse','business park','Yard Butterfly','Joshua Tree'\n",
    "                  ,\"Columbia River's\",'Forest Temple','trail mix','manufactured home park','park residents'\n",
    "                  'northern Lake district','on the field','Grant Park Dentistry','Mill Park','rivers of Cush',\n",
    "                  'parked','grass roots','Zion','Sun river','Cuyahoga','moody nature','jump in a lake','River Bend Chronicles'\n",
    "                  ,'Two Rivers Heritage','Lake Louise','Boardman plant','in any field','nuclear plant','two-year-old River'\n",
    "                  ,'2-year-old River','Beer Garden','Forest Dark','Yosemite','Russian River','theme park','field trips'\n",
    "                  ,'Eleven Madison Park','Africa','MesaVerde','field smart','grass. roots','Rocky Creek State Park','is a garden'\n",
    "                  ,'John Park','Lincoln Park','Lan Su Chineese Garden','Carinthia Parks','by very nature','recycling plant'\n",
    "                  ,'Lake No Negro','River runs through Bob','Ohio River','Ceder Lane','Mississippi River'\n",
    "                  ,'Field tech','forest hill drive','forest hill dr','organic garden fresh','grass-fed','wild garden seed'\n",
    "                  ,'rv parks','naturoathic','forest rump','by nature','great smokey mountains','grass fed','lake of the ozark'\n",
    "                  ,'hot on the trail','off field','level the field','River Schomaker','adventure park','roland park'\n",
    "                  ,'linda sue park','monster park','pre-field','Missouri River','to the field','Trillium park','active park assist'\n",
    "                  ,'garden home rd','garden home road','animas','field trip','#painting','#art','US plant','lakeshore plant'\n",
    "                  ,'Lake Geogre','democratic field','special field','datalake','Cherokee National','self park','Clopton Field'\n",
    "                  ,'Building a new plant','Lake Como','Tech Field','Three Rivers','Gifford Pinchot National','Snake in the'\n",
    "                  ,'Cheyenne River','unified field','National Geographic','China','Trail #Blaze','in her field','in his field'\n",
    "                  ,'yard line','yard dash','California','field experience','away the field','caring nature','plant based'\n",
    "                  ,'field day','light field','Lake O','EarthPorn','Eden','Cush','Tigris','eat from any tree in the garden'\n",
    "                  ,'New Zealand','tourist trail','lake havasu','campaign-trail','in my nature','Gorky Park','Little Dessert National Park'\n",
    "                  ,'Field Manager','New Orleans','Clear Lake','Spirit Lake','Corvallis','leafly','East Forest home studio'\n",
    "                  ,'Grant Park village','professional field','snakes in the ','Denver','field events','New York','Chicago','Auto Plant'\n",
    "                  ,'grass is legal','River District','Crystal Springs','tough field','Scotland','Colorado','Elephant Nature Park'\n",
    "                  ,'Boulder','complete field','field clinical','Texas','ric flair','ricflair','Hills at Round Lake','depth-of-field'\n",
    "                  ,'starlake','distortion field','whie house lawn','whitehouse lawn','playing field','Lake Woebegone'\n",
    "                  ,'Woodward Lake','Temiar','smoketrees','Missouri','field record','garden bros','gila river arena','pace of nature'\n",
    "                  ,'human nature','trouble right here in river city','their true nature','field service','delaware','amusement park'\n",
    "                  ,\"JC's big river\",'field test','Grand Canyon','mumbai','blacier','Canada','dominates the field','nail garden'\n",
    "                  ,'garden tiger','Burnaby Lake','Smith Rock','Viridian Forest','oshpark','coldforge','white river','ecola state park'\n",
    "                  ,'river city','contrarian nature','mystic river','water park','found a transponder snail','yard pass','Santa Ana River'\n",
    "                  ,'Casper Forest','episode of the forest','Log Yard','crystalline forest','field-test','Lake Pierce','of this field'\n",
    "                  ,'quantum field','plant my ass','tour YARD','Asubry park','solar plant','second nature','badlands'\n",
    "                  ,'turf field','trail food','Tokyo','rabbit trail','lord of the harvest','to field','Clackamas Trail Apartment'\n",
    "                  ,'battlefield','battle field','yard TD','yard touch','Seattle','hawaii','field note','half field'\n",
    "                  ,'Nyberg Rivers Shopping','journal Nature','Singapore','Cloverfield','Garden Home Growlers','Parks n Rec'\n",
    "                  ,'were but a river','Phillip River','Lake Street','thousand yard','corkin','East Forest CD bundle'\n",
    "                  ,'Cape Lookout','Fort Stevens','Cape Lookout','Patagonia','Big River','double park','Parker','keep the field clear of'\n",
    "                  ,'-yard','BuffetSongs','smoke pot','wiped the field','mind field','Fatener plant','Crystal Lake','field guide'\n",
    "                  ,'park drive','science park','Solumbia river high school','out of left field','out of right field'\n",
    "                  ,'plant controller',\"you are God's field\",'Bangkok','when you pass through','blaze your own trail','Johannesburg'\n",
    "                  ,'sheep of your pasture','the field is the world','park &amp; rides','flower shop','NYC','Columbia river high school'\n",
    "                  ,'Appalachia','Christian Snake Healing','Pennsylvania','Rwenzori','Lake Thelan','nature has gays'\n",
    "                  ,'Mark Trail','in this field','La Pine State Park','gift of nature','creative field','plant himself','plant herself'\n",
    "                  ,'las vegas','grass is greener and the girls','chile','dragon breeder','school yard','universal park'\n",
    "                  ,'backyard breeders','Vienna','VA','vintige Tie','Listen to Moving by I eat Plants for a living'\n",
    "                  ,'Malibu','Canyonlands','plants in Mexico','pair and flush draw','tastes like plants','Gamestop'\n",
    "                  ,'Forest Hills 1 level ranch','if a tree fall in the forest','if a tree falls in the forest','100 yard','500 free'\n",
    "                  ,'plant electrician','he was a plant','River Song','300 free','300 yard','400 free','400 yard','100 free','500 yard','200 yard','200 free',' named River',\n",
    "                  'Fleming beach','Meadow Lakes','Clackamas River Growlers','Winnebago','Kwai','2yo River','plant my face'\n",
    "                  ,'trophy','Moses Lake','Meat Plant','expose the plant','2A','3A','4A','in the half','win'\n",
    "                  ,'River has been found','Lan Su Chinese','dominated field','HydePark','Tule Lake','Michigan'\n",
    "                  ,'my nature is divine','theme park','themepark','new seasons grant park','chihuly garden','cry me a'\n",
    "                  ,'rocky neck','dominated field','hydepark','tule lake','Michigan','denial river','The Secrets of Ivy Garden'\n",
    "                  ,'Elysian Fields','comeback trail','Evolution of Field','knocked it outta the park','knocked it out of the park'\n",
    "                  ,\"Portland's Park Kitchen\",'in our field','olivegarden','Egypt','backyard players','off-field'\n",
    "                  ,'expanded field','Field Operations','inside-the-park','tournament field','NBA','NFL'\n",
    "                  ,'plant this guy in the back','East Lake','Forest Grove','Forest People','Grocery Field','Lewis River'\n",
    "                  ,'mobile home''brewery trail','generate a field','business nature','Sally Field','him on field'\n",
    "                  ,'jarbridge river','atmospheric river','Isreal','well paid plant','field hoodie','Italian','The River Wandle'\n",
    "                  ,'close the plant','Bamboo Forest','data lake','tongues of fire','field should','Russia','sinful nature'\n",
    "                  ,'lake russell','Park Plaza','God the Gardener''Field Paring Knife','can park',\"can't park\",'Ghost River'\n",
    "                  ,'Forest hills drive','Garden of Stars','semiotic in nature','Lady Lake','Cherry Park',' Green-field'\n",
    "                  ,'put River into protective custody','had to park','trades Dame to the Lakes','London','San Fransisco'\n",
    "                  ,'smoking grass','Brooklyn','VERONICA LAKE','cannot park','silver lake','Rivers Of Babylon','stoic nature'\n",
    "                  ,'spanning trees','Field Greens','and they withered because they had no root','Apple Park'\n",
    "                  ,'Other seed fell among thorns','Philip Rivers','in their nature','park his','park her','atomic garden'\n",
    "                  ,\"life's a garden\",'life is a garden','Fried Chicken','From the field','Highland Park Dark Origins'\n",
    "                  ,'Fridas Garden','Hayward Field','donuts','Stream season','every field','poem','haiku','dope','refer'\n",
    "                  ,'Nyberg Rivers',\"field you're planning\",'hit the field','Field Director','has a \"field\"','harvest you reap'\n",
    "                  ,'out of the ball park','Cedar Park Middle School','left field','Field work','loose leaf','Kitchen Garden'\n",
    "                  ,'pressing plant','Detriot','Glacier Peak','Marijuana','Parks is my actual name','Photoshop'\n",
    "                  ,\"Knott's Berry\",'airstream','Plants vs. Zombies','River student','River teacher','submissive nature'\n",
    "                  ,'Beneath The Lake','OUTA DA PARK','cede the field','Denmark','grace of a river'\n",
    "                  ,'Forest Grove', 'Columbia River Hwy', 'Columbia River Gorge', 'treatment plant', 'garden variety'\n",
    "                  ,'Madison Square Garden', 'Crop Sweater','mobile home park', 'Parks and Rec', 'Garden Bar'\n",
    "                  ,'Trail Blazer', 'South Park Mexican', 'track &amp; field', 'Home and Garden']\n",
    "\n",
    "noRTs = noRTs[~noRTs['text'].str.contains('|'.join(exclusionTerms),case=False)] # apply exclusion words\n",
    "engTweets = noRTs[noRTs['language'] == 'en'] # reduce tweets to english language\n"
   ]
  },
  {
   "cell_type": "code",
   "execution_count": null,
   "metadata": {
    "collapsed": true
   },
   "outputs": [],
   "source": [
    "#export results to csv\n",
    "engTweets.to_csv(\"C:/users/larkinan/desktop/testOutput.csv\")"
   ]
  }
 ],
 "metadata": {
  "anaconda-cloud": {},
  "kernelspec": {
   "display_name": "Python 3",
   "language": "python",
   "name": "python3"
  },
  "language_info": {
   "codemirror_mode": {
    "name": "ipython",
    "version": 3
   },
   "file_extension": ".py",
   "mimetype": "text/x-python",
   "name": "python",
   "nbconvert_exporter": "python",
   "pygments_lexer": "ipython3",
   "version": "3.6.2"
  }
 },
 "nbformat": 4,
 "nbformat_minor": 1
}
